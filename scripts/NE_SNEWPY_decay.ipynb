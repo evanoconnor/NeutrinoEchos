{
 "cells": [
  {
   "cell_type": "code",
   "execution_count": 1,
   "metadata": {},
   "outputs": [],
   "source": [
    "from argparse import ArgumentParser\n",
    "from snewpy import to_snowglobes\n",
    "from snewpy import run_snowglobes\n",
    "from snewpy import from_snowglobes\n",
    "import tarfile\n",
    "import numpy as np\n",
    "import os\n",
    "from astropy.io import ascii\n",
    "from astropy import units as u\n",
    "import matplotlib.pyplot as plt\n",
    "import matplotlib as mpl\n",
    "from matplotlib import gridspec\n",
    "\n",
    "rng = np.random.default_rng()\n",
    "\n",
    "\n",
    "mpl.rcParams['figure.figsize']=(6.0,4.0)    #(6.0,4.0)\n",
    "mpl.rcParams['lines.linewidth'] = 2\n",
    "mpl.rcParams['legend.handlelength']=2\n",
    "mpl.rcParams['legend.fontsize']=16\n",
    "mpl.rcParams['legend.frameon']=False\n",
    "mpl.rcParams['axes.labelsize']=18\n",
    "mpl.rcParams['xtick.labelsize']=16\n",
    "mpl.rcParams['ytick.labelsize']=16\n",
    "mpl.rcParams['legend.labelspacing'] = 0.1\n",
    "mpl.rcParams['xtick.minor.visible'] = True\n",
    "mpl.rcParams['ytick.minor.visible'] = True\n",
    "mpl.rcParams['ytick.right'] = True\n",
    "mpl.rcParams['xtick.top'] = True\n",
    "mpl.rcParams['ytick.direction'] = 'inout'\n",
    "mpl.rcParams['xtick.direction'] = 'inout'\n",
    "\n",
    "home_directory = os.getcwd()\n",
    "SNOwGLoBES_path = \"/Users/eoco/research/github/snowglobes/\" #where snowglobes is located\n"
   ]
  },
  {
   "cell_type": "code",
   "execution_count": 2,
   "metadata": {},
   "outputs": [],
   "source": [
    "#set distance in kpc\n",
    "distance=10\n",
    "\n",
    "#set SNOwGLoBES detector to use\n",
    "detectors = [\"wc100kt30prct\"]\n",
    "\n",
    "#set SNEWPY model type and filename\n",
    "modeltype = 'OConnor_2015'\n",
    "modeldir = '/Users/eoco/research/github/NeutrinoEchos/scripts/'\n",
    "model = 's40_atBH_cutoff'\n",
    "filename = model+'.dat'\n",
    "\n",
    "#to_snowglobes.generate_fluence integrates the model over the\n",
    "#specified time window(s) and generates fluence files for snowglobes\n",
    "\n",
    "#Option 1 - don't specify tstart and tend, then the whole model is integrated\n",
    "#tstart = None\n",
    "#tend = None\n",
    "\n",
    "#Option 2 - specify single tstart and tend, this makes 1 fluence file integrated over the windown\n",
    "#tstart = 0.53700724634 *u.s\n",
    "#tend= 0.53739724633 *u.s\n",
    "\n",
    "#Option 3 = specify sequence of time intervals, one fluence\n",
    "#file is made for each elements with dt=tstart[i]-tend[i]\n",
    "window_tstart = 0.53700724634\n",
    "window_bins = 39\n",
    "window_tend = 0.53739724633\n",
    "tstart = np.linspace(window_tstart,window_tend,window_bins,endpoint=False)*u.s\n",
    "tend = tstart + (window_tend-window_tstart)/window_bins*u.s\n",
    "tmid = (tstart+tend)*0.5\n",
    "\n",
    "#set desired oscillation prescription\n",
    "transformation = 'AdiabaticMSW_NMO'\n",
    "#transformation = 'AdiabaticMSW_IMO'\n",
    "\n",
    "#to_snowglobes creates a tarred file of snowglobes fluences\n",
    "#this is stored in the model types directory in the snewpy/models\n",
    "#the full path is returned from to_snowglobes\n",
    "outfile = modeltype+\"_\"+model+\"_\"+transformation"
   ]
  },
  {
   "cell_type": "code",
   "execution_count": 3,
   "metadata": {},
   "outputs": [
    {
     "name": "stdout",
     "output_type": "stream",
     "text": [
      "Preparing fluences...\n",
      "[INFO] The `generate_fluence` function has been moved to the `snewpy.snowglobes` module.\n",
      "Done fluences...\n",
      "Running snowglobes with wc100kt30prct ...\n",
      "[INFO] The `go` function has been moved to the `snewpy.snowglobes` module.\n"
     ]
    },
    {
     "name": "stderr",
     "output_type": "stream",
     "text": [
      "Detectors: 100%|██████████| 1/1 [00:06<00:00,  6.53s/it]\n"
     ]
    },
    {
     "name": "stdout",
     "output_type": "stream",
     "text": [
      "Done snowglobes...\n",
      "Collating...\n",
      "[INFO] The `collate` function has been moved to the `snewpy.snowglobes` module.\n"
     ]
    }
   ],
   "source": [
    "#call to_snowglobes\n",
    "tables = {}\n",
    "\n",
    "print(\"Preparing fluences...\")\n",
    "tarredfile = to_snowglobes.generate_fluence(modeldir, filename, modeltype, transformation, distance, outfile,tstart,tend)\n",
    "print(\"Done fluences...\")\n",
    "\n",
    "for detector in detectors:\n",
    "    print(\"Running snowglobes with\",detector,\"...\")\n",
    "    #now run snowglobes, this will loop over all the fluence files in `tarredfile`\n",
    "    run_snowglobes.go(SNOwGLoBES_path, modeldir, tarredfile, detector_input=detector,verbose=False)\n",
    "    print(\"Done snowglobes...\")\n",
    "    \n",
    "    #now collate results of output of snowglobes\n",
    "    print(\"Collating...\")\n",
    "    tables[detector] = from_snowglobes.collate(SNOwGLoBES_path, modeldir, tarredfile, detector_input=detector,skip_plots=True,return_tables=True,verbose=False)\n",
    "\n",
    "os.chdir(home_directory)\n",
    "np.save(modeldir+'NeutrinoEcho_'+outfile+'.npy',tables)"
   ]
  },
  {
   "cell_type": "code",
   "execution_count": 4,
   "metadata": {},
   "outputs": [],
   "source": [
    "tables = np.load(\"./NeutrinoEcho_OConnor_2015_s40_atBH_cutoff_AdiabaticMSW_NMO.npy\",allow_pickle=True).item()\n",
    "hyperKfactor=2.2\n",
    "nevents = {}\n",
    "for detector in detectors:\n",
    "    nevents[detector] = np.zeros(len(tmid))\n",
    "    for i in range(len(tmid)):\n",
    "        key = \"Collated_\"+outfile+\"_\"+str(i)+\"_\"+detector+\"_events_smeared_weighted.dat\"\n",
    "        for j in range(1,len(tables[detector][key]['header'].split())):\n",
    "            nevents[detector][i] += sum(tables[detector][key]['data'][j])"
   ]
  },
  {
   "cell_type": "code",
   "execution_count": 15,
   "metadata": {},
   "outputs": [
    {
     "name": "stdout",
     "output_type": "stream",
     "text": [
      "Total Events Hyper-K-like between 0.5370 and 0.5474: 18.981841332508107\n",
      "Total Events Hyper-K-like between 0.5371 and 0.5474: 11.079085194723266\n",
      "Total Events Hyper-K-like between 0.5372 and 0.5474: 4.914859403930127\n",
      "Total Events Hyper-K-like between 0.5373 and 0.5474: 1.8086542189297483\n",
      "Total Events Hyper-K-like between 0.5374 and 0.5474: 0.0\n"
     ]
    }
   ],
   "source": [
    "print(\"Total Events Hyper-K-like between 0.5370 and 0.5474:\",hyperKfactor*sum(nevents[\"wc100kt30prct\"][tmid>(0.5370)*u.s]))\n",
    "print(\"Total Events Hyper-K-like between 0.5371 and 0.5474:\",hyperKfactor*sum(nevents[\"wc100kt30prct\"][tmid>(0.5371)*u.s]))\n",
    "print(\"Total Events Hyper-K-like between 0.5372 and 0.5474:\",hyperKfactor*sum(nevents[\"wc100kt30prct\"][tmid>(0.5372)*u.s]))\n",
    "print(\"Total Events Hyper-K-like between 0.5373 and 0.5474:\",hyperKfactor*sum(nevents[\"wc100kt30prct\"][tmid>(0.5373)*u.s]))\n",
    "print(\"Total Events Hyper-K-like between 0.5374 and 0.5474:\",hyperKfactor*sum(nevents[\"wc100kt30prct\"][tmid>(0.5374)*u.s]))"
   ]
  },
  {
   "cell_type": "code",
   "execution_count": null,
   "metadata": {},
   "outputs": [],
   "source": []
  }
 ],
 "metadata": {
  "kernelspec": {
   "display_name": "Python 3",
   "language": "python",
   "name": "python3"
  },
  "language_info": {
   "codemirror_mode": {
    "name": "ipython",
    "version": 3
   },
   "file_extension": ".py",
   "mimetype": "text/x-python",
   "name": "python",
   "nbconvert_exporter": "python",
   "pygments_lexer": "ipython3",
   "version": "3.8.8"
  }
 },
 "nbformat": 4,
 "nbformat_minor": 4
}
